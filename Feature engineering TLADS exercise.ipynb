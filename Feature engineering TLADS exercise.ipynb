{
 "cells": [
  {
   "cell_type": "code",
   "execution_count": 1,
   "metadata": {},
   "outputs": [],
   "source": [
    "import pandas as pd\n",
    "import numpy as np\n",
    "import matplotlib.pyplot as plt\n",
    "import seaborn as sns\n",
    "import scipy.stats as stats\n",
    "\n",
    "# Set the default plot aesthetics to be prettier.\n",
    "sns.set_style(\"white\")"
   ]
  },
  {
   "cell_type": "code",
   "execution_count": 2,
   "metadata": {},
   "outputs": [
    {
     "name": "stdout",
     "output_type": "stream",
     "text": [
      "  cntry  idno  year  tvtot  ppltrst  pplfair  pplhlp  happy  sclmeet  sclact  \\\n",
      "0    CH   5.0     6    3.0      3.0     10.0     5.0    8.0      5.0     4.0   \n",
      "1    CH  25.0     6    6.0      5.0      7.0     5.0    9.0      3.0     2.0   \n",
      "2    CH  26.0     6    1.0      8.0      8.0     8.0    7.0      6.0     3.0   \n",
      "3    CH  28.0     6    4.0      6.0      6.0     7.0   10.0      6.0     2.0   \n",
      "4    CH  29.0     6    5.0      6.0      7.0     5.0    8.0      7.0     2.0   \n",
      "\n",
      "   gndr  agea  partner  \n",
      "0   2.0  60.0      1.0  \n",
      "1   2.0  59.0      1.0  \n",
      "2   1.0  24.0      2.0  \n",
      "3   2.0  64.0      1.0  \n",
      "4   2.0  55.0      1.0  \n",
      "['CH' 'CZ' 'DE' 'ES' 'NO' 'SE']\n"
     ]
    }
   ],
   "source": [
    "df = pd.read_csv(\"https://raw.githubusercontent.com/Thinkful-Ed/data-201-resources/master/ESS_practice_data/ESSdata_Thinkful.csv\")\n",
    "\n",
    "# Take a subset of the data to make plots clearer.\n",
    "print(df.head())\n",
    "\n",
    "print(df.cntry.unique())"
   ]
  },
  {
   "cell_type": "markdown",
   "metadata": {},
   "source": [
    "## TLADS Drill\n",
    "\n",
    "Categorize each of the variables in the ESS dataset as categorical or continuous, and if continuous as ordinal, interval, or ratio variables. Check your work with your mentor, and discuss what that information might imply for feature engineering with this data.\n",
    "\n",
    "cntry: categorical <br>\n",
    "idno: continuous - ordinal<br>\n",
    "year: continuous - ordinal<br>\n",
    "tvtot: continuous - interval<br>\n",
    "ppltrst: continuous - ratio<br>\n",
    "pplfair: continuous - ratio<br>\n",
    "pplhlp: continuous - ratio<br>\n",
    "happy: continuous - ratio<br>\n",
    "sclmeet: ratio<br>\n",
    "sclact: ratio<br>\n",
    "gndr: ordinal<br>\n",
    "agea: ratio<br>\n",
    "partner: ordinal<br>"
   ]
  },
  {
   "cell_type": "code",
   "execution_count": null,
   "metadata": {},
   "outputs": [],
   "source": []
  }
 ],
 "metadata": {
  "kernelspec": {
   "display_name": "Python 3",
   "language": "python",
   "name": "python3"
  },
  "language_info": {
   "codemirror_mode": {
    "name": "ipython",
    "version": 3
   },
   "file_extension": ".py",
   "mimetype": "text/x-python",
   "name": "python",
   "nbconvert_exporter": "python",
   "pygments_lexer": "ipython3",
   "version": "3.7.2"
  }
 },
 "nbformat": 4,
 "nbformat_minor": 2
}
